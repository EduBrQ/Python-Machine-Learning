{
  "cells": [
    {
      "cell_type": "markdown",
      "metadata": {
        "_cell_guid": "ce53be83-4475-8d60-f4a5-b7baa884bd11",
        "_uuid": "a6ef429ec80d5752ea1af6c7687fff2cc1601307"
      },
      "source": [
        "Here I m going to run **Support Vector machine** with different **kernels(linear,gaussian,polynomial)** and also tune the various parameters such as **C** ,**gamma** and **degree** to find out the best performing model ."
      ]
    },
    {
      "cell_type": "code",
      "execution_count": null,
      "metadata": {
        "_cell_guid": "a627464e-bd59-249c-ff6e-1483fcfcf5c8",
        "_uuid": "3b0c6f715fc9979947bf4ab80755835e5d3bce36"
      },
      "outputs": [],
      "source": [
        "# This Python 3 environment comes with many helpful analytics libraries installed\n",
        "# It is defined by the kaggle/python docker image: https://github.com/kaggle/docker-python\n",
        "# For example, here's several helpful packages to load in \n",
        "\n",
        "\n",
        "# Input data files are available in the \"../input/\" directory.\n",
        "# For example, running this (by clicking run or pressing Shift+Enter) will list the files in the input directory\n",
        "\n",
        "from subprocess import check_output\n",
        "print(check_output([\"ls\", \"../input\"]).decode(\"utf8\"))\n",
        "\n",
        "# Any results you write to the current directory are saved as output."
      ]
    },
    {
      "cell_type": "markdown",
      "metadata": {
        "_cell_guid": "cd01fe18-db57-3da4-2916-f99e096988ac",
        "_uuid": "9f9b10f8799a3ddbb037c443894d46e594298004"
      },
      "source": [
        "# Importing all the necessary libraries"
      ]
    },
    {
      "cell_type": "code",
      "execution_count": null,
      "metadata": {
        "_cell_guid": "0247ac12-6357-659f-0182-36d245e9b551",
        "_uuid": "80e79b4a2f5d24a2c99e8550a7c906a7fdf08c3f"
      },
      "outputs": [],
      "source": [
        "import pandas as pd\n",
        "import numpy as np\n",
        "import seaborn as sns\n",
        "\n",
        "import matplotlib.pyplot as plt\n",
        "\n",
        "%matplotlib inline"
      ]
    },
    {
      "cell_type": "markdown",
      "metadata": {
        "_cell_guid": "0200d0e4-320f-2822-88a9-f6c0225658e6",
        "_uuid": "5ee26aa3d986016b9a422a0cf0f60f1565512ab3"
      },
      "source": [
        "# Reading the comma separated values file into the dataframe"
      ]
    },
    {
      "cell_type": "code",
      "execution_count": null,
      "metadata": {
        "_cell_guid": "2e847afc-36c5-b7bb-78c6-4288f847868e",
        "_uuid": "1fa60a338469cf320db5ea0d41f57b8650796803"
      },
      "outputs": [],
      "source": [
        "df = pd.read_csv('../input/voice.csv')\n",
        "df.head()"
      ]
    },
    {
      "cell_type": "markdown",
      "metadata": {
        "_cell_guid": "2d654f09-1018-5498-e4ea-428752a19d4b",
        "_uuid": "883455998456eb409cec27717326ecc35a2c0b94"
      },
      "source": [
        "# Checking the correlation between each feature"
      ]
    },
    {
      "cell_type": "code",
      "execution_count": null,
      "metadata": {
        "_cell_guid": "8c9f6f78-3e24-bb65-8270-f9a795441d5e",
        "_uuid": "561cc280a382acce8dbc387ec7e1722c3596c08f"
      },
      "outputs": [],
      "source": [
        "df.corr()"
      ]
    },
    {
      "cell_type": "markdown",
      "metadata": {
        "_cell_guid": "51c112a4-8b80-2a6a-5688-825581b9c1dd",
        "_uuid": "72da7e103712d0a0b3ccca68b6b2e8e26b4a13d8"
      },
      "source": [
        "# Checking whether there is any null values "
      ]
    },
    {
      "cell_type": "code",
      "execution_count": null,
      "metadata": {
        "_cell_guid": "af637554-1c8d-cdf4-c76e-6429511dbcf7",
        "_uuid": "ab5ef61b8ba83ca5c118cc012ed4fade8b63431d"
      },
      "outputs": [],
      "source": [
        "df.isnull().sum()"
      ]
    },
    {
      "cell_type": "code",
      "execution_count": null,
      "metadata": {
        "_cell_guid": "da3a570c-0527-1f21-a980-edebea590239",
        "_uuid": "03ef67ae40a8a71a9e2e8109ec7ccbca996fbfd4"
      },
      "outputs": [],
      "source": [
        "df.shape"
      ]
    },
    {
      "cell_type": "code",
      "execution_count": null,
      "metadata": {
        "_cell_guid": "fe354f60-1504-a06e-9675-c80c755bf66f",
        "_uuid": "b7100b497c188d7949aa192f133b181721ba2491"
      },
      "outputs": [],
      "source": [
        "print(\"Total number of labels: {}\".format(df.shape[0]))\n",
        "print(\"Number of male: {}\".format(df[df.label == 'male'].shape[0]))\n",
        "print(\"Number of female: {}\".format(df[df.label == 'female'].shape[0]))"
      ]
    },
    {
      "cell_type": "markdown",
      "metadata": {
        "_cell_guid": "af99e2cb-9132-7c97-3dce-6a81c6b85bb9",
        "_uuid": "9a80565b4c05805ddf46aace4c871017b9572380"
      },
      "source": [
        "Thus we can see there are equal number of male and female labels"
      ]
    },
    {
      "cell_type": "code",
      "execution_count": null,
      "metadata": {
        "_cell_guid": "78f518d5-a32d-376f-d132-1250bd0b7544",
        "_uuid": "9f17b7019f5583591a62467a235525646d3d0d03"
      },
      "outputs": [],
      "source": [
        "df.shape"
      ]
    },
    {
      "cell_type": "markdown",
      "metadata": {
        "_cell_guid": "85fbbf85-f199-9528-8147-7583154c4c6e",
        "_uuid": "228a9e794a6454b4b13af59e88a8049be96d0ad7"
      },
      "source": [
        "There are 21 features and 3168 instances."
      ]
    },
    {
      "cell_type": "markdown",
      "metadata": {
        "_cell_guid": "35926698-93b2-6af7-7647-20e876461359",
        "_uuid": "a599b4d71506a22b2c101df3d8459aefd7d42bb5"
      },
      "source": [
        "# Separating features and labels"
      ]
    },
    {
      "cell_type": "code",
      "execution_count": null,
      "metadata": {
        "_cell_guid": "36d5feea-f653-99c9-aa5d-a60c9f0d20f8",
        "_uuid": "40da6439ce9df51ec0ca8997849b64bb012bcece"
      },
      "outputs": [],
      "source": [
        "X=df.iloc[:, :-1]\n",
        "X.head()"
      ]
    },
    {
      "cell_type": "markdown",
      "metadata": {
        "_cell_guid": "eabb15db-3594-8ad5-2a5b-10527ac27b88",
        "_uuid": "36b232dbb9bd29780adefd661de0d9f7c434f92a"
      },
      "source": [
        "# Converting string value to int type for labels"
      ]
    },
    {
      "cell_type": "code",
      "execution_count": null,
      "metadata": {
        "_cell_guid": "d4681c81-0d46-deac-48a8-8238f7fe330c",
        "_uuid": "1558f761e56346a2bb97fe7bf91d37b3f8a67fbe"
      },
      "outputs": [],
      "source": [
        "from sklearn.preprocessing import LabelEncoder\n",
        "y=df.iloc[:,-1]\n",
        "\n",
        "# Encode label category\n",
        "# male -> 1\n",
        "# female -> 0\n",
        "\n",
        "gender_encoder = LabelEncoder()\n",
        "y = gender_encoder.fit_transform(y)\n",
        "y"
      ]
    },
    {
      "cell_type": "markdown",
      "metadata": {
        "_cell_guid": "c4badc10-5597-845a-85e2-c8cbf4c3e0d4",
        "_uuid": "446e3894a7c22ad77bdb3f33bcd7d1f3cb30c601"
      },
      "source": [
        "# Data Standardisation\n",
        "Standardization refers to shifting the distribution of each attribute to have a mean of zero and a standard deviation of one (unit variance). It is useful to standardize attributes for a model. Standardization of datasets is a common requirement for many machine learning estimators implemented in scikit-learn; they might behave badly if the individual features do not more or less look like standard normally distributed data."
      ]
    },
    {
      "cell_type": "code",
      "execution_count": null,
      "metadata": {
        "_cell_guid": "3c999a7a-cded-223a-3b4f-55ee8fbbdb7e",
        "_uuid": "2dea82a1c3d4de148a9209571e99a656a7de3d07"
      },
      "outputs": [],
      "source": [
        "# Scale the data to be between -1 and 1\n",
        "from sklearn.preprocessing import StandardScaler\n",
        "scaler = StandardScaler()\n",
        "scaler.fit(X)\n",
        "X = scaler.transform(X)"
      ]
    },
    {
      "cell_type": "markdown",
      "metadata": {
        "_cell_guid": "31ce4128-0a4a-ae10-3a25-1c362398295c",
        "_uuid": "a956197f0c3b613ec807dfdd08a8ab248cb1b015"
      },
      "source": [
        "# Splitting dataset into training set and testing set for better generalisation"
      ]
    },
    {
      "cell_type": "code",
      "execution_count": null,
      "metadata": {
        "_cell_guid": "ea416e41-d033-34de-6e28-5725be182435",
        "_uuid": "855256ce8c76edde9578544bb747c1adbadf0baf"
      },
      "outputs": [],
      "source": [
        "from sklearn.model_selection import train_test_split\n",
        "X_train, X_test, y_train, y_test = train_test_split(X, y, test_size=0.2, random_state=1)"
      ]
    },
    {
      "cell_type": "markdown",
      "metadata": {
        "_cell_guid": "416eb826-73fc-bbd2-0676-2a803ae9327b",
        "_uuid": "13bff4191895a7dae4ba0ed13648da8a8570ae31"
      },
      "source": [
        "# Running SVM with default hyperparameter."
      ]
    },
    {
      "cell_type": "code",
      "execution_count": null,
      "metadata": {
        "_cell_guid": "05ccf988-5612-03ac-5d2f-122baa32ab19",
        "_uuid": "e4af755a4f4e717f7ef5edae9742fc15d3b145e1"
      },
      "outputs": [],
      "source": [
        "from sklearn.svm import SVC\n",
        "from sklearn import metrics\n",
        "svc=SVC() #Default hyperparameters\n",
        "svc.fit(X_train,y_train)\n",
        "y_pred=svc.predict(X_test)\n",
        "print('Accuracy Score:')\n",
        "print(metrics.accuracy_score(y_test,y_pred))"
      ]
    },
    {
      "cell_type": "markdown",
      "metadata": {
        "_cell_guid": "e5548edc-79be-2f23-a994-ddb73e82ee22",
        "_uuid": "412157a62dd907dcbe97d9a73c5176d56db8a083"
      },
      "source": [
        "# Default Linear kernel"
      ]
    },
    {
      "cell_type": "code",
      "execution_count": null,
      "metadata": {
        "_cell_guid": "fd19993f-2f0d-c9da-e944-3206e6a292c0",
        "_uuid": "689d6d275044b9d917b1dda81a7fb6d884717274"
      },
      "outputs": [],
      "source": [
        "svc=SVC(kernel='linear')\n",
        "svc.fit(X_train,y_train)\n",
        "y_pred=svc.predict(X_test)\n",
        "print('Accuracy Score:')\n",
        "print(metrics.accuracy_score(y_test,y_pred))"
      ]
    },
    {
      "cell_type": "markdown",
      "metadata": {
        "_cell_guid": "12039039-6d6e-915c-d213-50c102eb3c09",
        "_uuid": "30f92e6cd8fff797c8039cb9d0ce7e886fe9572a"
      },
      "source": [
        "# Default RBF kernel"
      ]
    },
    {
      "cell_type": "code",
      "execution_count": null,
      "metadata": {
        "_cell_guid": "61a30229-7028-815d-631f-1b24343da1b3",
        "_uuid": "b9955c5975fda6ad3085fa01216f61a3106f0b91"
      },
      "outputs": [],
      "source": [
        "svc=SVC(kernel='rbf')\n",
        "svc.fit(X_train,y_train)\n",
        "y_pred=svc.predict(X_test)\n",
        "print('Accuracy Score:')\n",
        "print(metrics.accuracy_score(y_test,y_pred))"
      ]
    },
    {
      "cell_type": "markdown",
      "metadata": {
        "_cell_guid": "200005e4-4577-0fc3-e833-a438cbf5ceff",
        "_uuid": "feb514955b1fe81d844ab6e36a7be4ba73cd2e8f"
      },
      "source": [
        "We can conclude from above that svm by default uses **rbf** kernel as a parameter for kernel"
      ]
    },
    {
      "cell_type": "markdown",
      "metadata": {
        "_cell_guid": "3392a4d6-6ed0-49d0-7868-038f2489e8c8",
        "_uuid": "db58d0bf18f32be9d268eacd3ee669ddd6e7d8c9"
      },
      "source": [
        "# Default Polynomial kernel"
      ]
    },
    {
      "cell_type": "code",
      "execution_count": null,
      "metadata": {
        "_cell_guid": "8a705a2e-0d6f-6d2a-45fd-358513529f75",
        "_uuid": "578fb2e8b1e265275e45667e6f4ca17e4eeaf12e"
      },
      "outputs": [],
      "source": [
        "svc=SVC(kernel='poly')\n",
        "svc.fit(X_train,y_train)\n",
        "y_pred=svc.predict(X_test)\n",
        "print('Accuracy Score:')\n",
        "print(metrics.accuracy_score(y_test,y_pred))"
      ]
    },
    {
      "cell_type": "markdown",
      "metadata": {
        "_cell_guid": "fc3a244d-4ef3-34f4-eb3a-3286772145b2",
        "_uuid": "09aa0569a475ef3d7e67f24396f946d779c0fcc5"
      },
      "source": [
        "Polynomial kernel is performing poorly.The reason behind this maybe it is overfitting the training dataset"
      ]
    },
    {
      "cell_type": "markdown",
      "metadata": {
        "_cell_guid": "a54fb78f-de14-da2f-fe18-605b3f5180d5",
        "_uuid": "95a8383250adcd5385ce7fda6aa6ed65d60ed1e2"
      },
      "source": [
        "# Performing K-fold cross validation with different kernels"
      ]
    },
    {
      "cell_type": "markdown",
      "metadata": {
        "_cell_guid": "ad1fe233-c013-d253-9596-f23e1a11c347",
        "_uuid": "b457393e7ca57ecfd6d3b7e89fd4d5e8c518625a"
      },
      "source": [
        "# CV on Linear kernel"
      ]
    },
    {
      "cell_type": "code",
      "execution_count": null,
      "metadata": {
        "_cell_guid": "25f97e10-5a1c-103a-4be1-f9d766ade49d",
        "_uuid": "03a01554f11a7a8d4ed341db4d0be6368aeab641"
      },
      "outputs": [],
      "source": [
        "from sklearn.cross_validation import cross_val_score\n",
        "svc=SVC(kernel='linear')\n",
        "scores = cross_val_score(svc, X, y, cv=10, scoring='accuracy') #cv is cross validation\n",
        "print(scores)"
      ]
    },
    {
      "cell_type": "markdown",
      "metadata": {
        "_cell_guid": "f1e11e9e-0d61-70cb-8d80-3c31fcce6cef",
        "_uuid": "a8d8cd75bf756490bdf5372ff9c39372e716ef6e"
      },
      "source": [
        "We can see above how the accuracy score is different everytime.This shows that accuracy score depends upon how the datasets got split."
      ]
    },
    {
      "cell_type": "code",
      "execution_count": null,
      "metadata": {
        "_cell_guid": "a2e7ab72-5fa9-3e54-d59c-b2b4c24ed7dc",
        "_uuid": "5ff39ebc9f56c2ffe44934df03f95eeaee82ce85"
      },
      "outputs": [],
      "source": [
        "print(scores.mean())"
      ]
    },
    {
      "cell_type": "markdown",
      "metadata": {
        "_cell_guid": "6d61c1df-0285-0a0e-64ad-c2bef642e15d",
        "_uuid": "9861a882e1f74e1e7c2db82d2df6616a14a21bde"
      },
      "source": [
        "In K-fold cross validation we generally take the mean of all the scores."
      ]
    },
    {
      "cell_type": "markdown",
      "metadata": {
        "_cell_guid": "5236f0a2-7d83-d6cb-fb88-2aacf70fea4c",
        "_uuid": "ed6b6e139d6b2e4f53c6d7b1a2dd138ba089a48e"
      },
      "source": [
        "# CV on rbf kernel"
      ]
    },
    {
      "cell_type": "code",
      "execution_count": null,
      "metadata": {
        "_cell_guid": "e7015bbc-ea05-d4e9-c50b-ee48149fd2bf",
        "_uuid": "22b5e4d14724769502664b8a4e67fd9fbc5078ac"
      },
      "outputs": [],
      "source": [
        "from sklearn.cross_validation import cross_val_score\n",
        "svc=SVC(kernel='rbf')\n",
        "scores = cross_val_score(svc, X, y, cv=10, scoring='accuracy') #cv is cross validation\n",
        "print(scores)"
      ]
    },
    {
      "cell_type": "code",
      "execution_count": null,
      "metadata": {
        "_cell_guid": "fb9609a2-6e5c-4a8f-e273-12916ea7215f",
        "_uuid": "bef0783a74721e5d26df763515f045699380b1a6"
      },
      "outputs": [],
      "source": [
        "print(scores.mean())"
      ]
    },
    {
      "cell_type": "markdown",
      "metadata": {
        "_cell_guid": "9e261f77-d75e-f6f5-833b-a30a9feee04d",
        "_uuid": "3fa08d32da1a91551f5738c6b11fe4eb1407f48d"
      },
      "source": [
        "# CV on Polynomial kernel"
      ]
    },
    {
      "cell_type": "code",
      "execution_count": null,
      "metadata": {
        "_cell_guid": "fd133fd6-c088-6803-8d59-5e5739674689",
        "_uuid": "1789d5196f3d39deb43e216f9bd35ac475fabd6d"
      },
      "outputs": [],
      "source": [
        "from sklearn.cross_validation import cross_val_score\n",
        "svc=SVC(kernel='poly')\n",
        "scores = cross_val_score(svc, X, y, cv=10, scoring='accuracy') #cv is cross validation\n",
        "print(scores)"
      ]
    },
    {
      "cell_type": "code",
      "execution_count": null,
      "metadata": {
        "_cell_guid": "e07031f3-a32c-46e3-7cce-ba873870f3fe",
        "_uuid": "962ccf5e4f81c213e1a4c2ca2fea343643285db9"
      },
      "outputs": [],
      "source": [
        "print(scores.mean())"
      ]
    },
    {
      "cell_type": "markdown",
      "metadata": {
        "_cell_guid": "7a264296-51e3-904b-ab6b-4f86d0358f53",
        "_uuid": "9834a9bf9959184c21b4efdb81821087b19e1133"
      },
      "source": [
        "**When K-fold cross validation is done we can see different score in each iteration.This happens because when we use train_test_split method,the dataset get split in random manner into testing and training dataset.Thus it depends on how the dataset got split and which samples are training set and which samples are in testing set.**\n",
        "\n",
        "**With K-fold cross validation we can see that the dataset got split into 10 equal parts thus covering all the data into training as well into testing set.This is the reason we got 10 different accuracy score.**"
      ]
    },
    {
      "cell_type": "markdown",
      "metadata": {
        "_cell_guid": "0912611e-a132-cd7e-edcf-8f63603a7f38",
        "_uuid": "a2c4f9206b46e0f8d41c69b02a5b70732d98dbcb"
      },
      "source": [
        "### Taking all the values of C and checking out the accuracy score with kernel as linear."
      ]
    },
    {
      "cell_type": "markdown",
      "metadata": {
        "_cell_guid": "cad5cfc0-be06-ff7f-bb83-0d8e168d0cbf",
        "_uuid": "91ecc38a7e579e158ac388f31c0e39d5a0223bd2"
      },
      "source": [
        "**The C parameter tells the SVM optimization how much you want to avoid misclassifying each training example. For large values of C, the optimization will choose a smaller-margin hyperplane if that hyperplane does a better job of getting all the training points classified correctly. Conversely, a very small value of C will cause the optimizer to look for a larger-margin separating hyperplane, even if that hyperplane misclassifies more points.**\n",
        "\n",
        "**Thus for a very large values we can cause overfitting of the model and for a very small value of C we can cause underfitting.Thus the value of C must be chosen in such a manner that it generalised the unseen data well**"
      ]
    },
    {
      "cell_type": "code",
      "execution_count": null,
      "metadata": {
        "_cell_guid": "75bfb3a4-06d5-c828-23bb-a03ffea9b6c7",
        "_uuid": "06c8795e40df4d3616e1a78f3d11c20ae7f0e595"
      },
      "outputs": [],
      "source": [
        "C_range=list(range(1,26))\n",
        "acc_score=[]\n",
        "for c in C_range:\n",
        "    svc = SVC(kernel='linear', C=c)\n",
        "    scores = cross_val_score(svc, X, y, cv=10, scoring='accuracy')\n",
        "    acc_score.append(scores.mean())\n",
        "print(acc_score)    \n",
        "    "
      ]
    },
    {
      "cell_type": "code",
      "execution_count": null,
      "metadata": {
        "_cell_guid": "d7d004c8-458f-ae86-d777-ab92b253df34",
        "_uuid": "a0833dcc08143e3b8472c6235a714866f71af313"
      },
      "outputs": [],
      "source": [
        "import matplotlib.pyplot as plt\n",
        "%matplotlib inline\n",
        "\n",
        "\n",
        "C_values=list(range(1,26))\n",
        "# plot the value of C for SVM (x-axis) versus the cross-validated accuracy (y-axis)\n",
        "plt.plot(C_values,acc_score)\n",
        "plt.xticks(np.arange(0,27,2))\n",
        "plt.xlabel('Value of C for SVC')\n",
        "plt.ylabel('Cross-Validated Accuracy')"
      ]
    },
    {
      "cell_type": "markdown",
      "metadata": {
        "_cell_guid": "d9c892c1-0923-a8e3-53bf-40886621828c",
        "_uuid": "7558db71cd284da600d871a0d5d9a94a35437900"
      },
      "source": [
        "**From the above plot we can see that accuracy has been close to 97% for C=1 and C=6 and then it drops around 96.8% and remains constant.**"
      ]
    },
    {
      "cell_type": "markdown",
      "metadata": {
        "_cell_guid": "37666b87-8625-668f-6984-61be1852635b",
        "_uuid": "1ff53c8d9f73bf061c1a1f502ac0b6b94e9045a5"
      },
      "source": [
        "### Let us look into more detail of what is the exact value of C which is giving us a good accuracy score"
      ]
    },
    {
      "cell_type": "code",
      "execution_count": null,
      "metadata": {
        "_cell_guid": "49795d4a-e816-45e5-7404-881df395f894",
        "_uuid": "a24de8ac731354e5a9709df3e6cb87fcec9e222a"
      },
      "outputs": [],
      "source": [
        "C_range=list(np.arange(0.1,6,0.1))\n",
        "acc_score=[]\n",
        "for c in C_range:\n",
        "    svc = SVC(kernel='linear', C=c)\n",
        "    scores = cross_val_score(svc, X, y, cv=10, scoring='accuracy')\n",
        "    acc_score.append(scores.mean())\n",
        "print(acc_score)    \n",
        "    "
      ]
    },
    {
      "cell_type": "code",
      "execution_count": null,
      "metadata": {
        "_cell_guid": "ab18923a-5802-45e4-6290-37b6ea89eb86",
        "_uuid": "35cbe6b9eaef416bcf7272d2c45e5ea024c254f4"
      },
      "outputs": [],
      "source": [
        "import matplotlib.pyplot as plt\n",
        "%matplotlib inline\n",
        "\n",
        "C_values=list(np.arange(0.1,6,0.1))\n",
        "# plot the value of C for SVM (x-axis) versus the cross-validated accuracy (y-axis)\n",
        "plt.plot(C_values,acc_score)\n",
        "plt.xticks(np.arange(0.0,6,0.3))\n",
        "plt.xlabel('Value of C for SVC ')\n",
        "plt.ylabel('Cross-Validated Accuracy')"
      ]
    },
    {
      "cell_type": "markdown",
      "metadata": {
        "_cell_guid": "d604755b-9603-9f61-d8d7-c533ba9851a9",
        "_uuid": "4494cb0f73787484b2bb318ecf03125ed6749a90"
      },
      "source": [
        "### Accuracy score is highest for C=0.1."
      ]
    },
    {
      "cell_type": "markdown",
      "metadata": {
        "_cell_guid": "a8d63c32-a177-b287-08c4-f85f144c6324",
        "_uuid": "5d272ae6d4b9a12e20ca742b73e629088641f5d1"
      },
      "source": [
        "### Taking kernel as **rbf** and taking different values gamma"
      ]
    },
    {
      "cell_type": "markdown",
      "metadata": {
        "_cell_guid": "dea9c10d-0351-e3fd-0e11-50a7dd18c310",
        "_uuid": "1a899828ad28c67e5122bafc7a214c7536f964d9"
      },
      "source": [
        "**Technically, the gamma parameter is the inverse of the standard deviation of the RBF kernel (Gaussian function), which is used as similarity measure between two points. Intuitively, a small gamma value define a Gaussian function with a large variance. In this case, two points can be considered similar even if are far from each other. In the other hand, a large gamma value means define a Gaussian function with a small variance and in this case, two points are considered similar just if they are close to each other**"
      ]
    },
    {
      "cell_type": "code",
      "execution_count": null,
      "metadata": {
        "_cell_guid": "282b0fe3-0b34-d692-7412-8acab5711326",
        "_uuid": "28ad577e4c1a39c76b0f2491fc9f4780db91fb02"
      },
      "outputs": [],
      "source": [
        "gamma_range=[0.0001,0.001,0.01,0.1,1,10,100]\n",
        "acc_score=[]\n",
        "for g in gamma_range:\n",
        "    svc = SVC(kernel='rbf', gamma=g)\n",
        "    scores = cross_val_score(svc, X, y, cv=10, scoring='accuracy')\n",
        "    acc_score.append(scores.mean())\n",
        "print(acc_score)    \n",
        "    "
      ]
    },
    {
      "cell_type": "code",
      "execution_count": null,
      "metadata": {
        "_cell_guid": "22bc0e0e-fdfc-6c6d-c9c5-8863f818254f",
        "_uuid": "0ca07d3b130643c9ed7c4ff968f95a6db5d12f51"
      },
      "outputs": [],
      "source": [
        "import matplotlib.pyplot as plt\n",
        "%matplotlib inline\n",
        "\n",
        "gamma_range=[0.0001,0.001,0.01,0.1,1,10,100]\n",
        "\n",
        "# plot the value of C for SVM (x-axis) versus the cross-validated accuracy (y-axis)\n",
        "plt.plot(gamma_range,acc_score)\n",
        "plt.xlabel('Value of gamma for SVC ')\n",
        "plt.xticks(np.arange(0.0001,100,5))\n",
        "plt.ylabel('Cross-Validated Accuracy')"
      ]
    },
    {
      "cell_type": "markdown",
      "metadata": {
        "_cell_guid": "15e21695-add0-983e-6a87-c25b98fff692",
        "_uuid": "00f4423c74324ca8cc128dc8d94869167d065ee4"
      },
      "source": [
        "**We can see that for gamma=10 and 100 the kernel is performing poorly.We can also see a slight dip in accuracy score when gamma is 1.Let us look into more details for the range 0.0001 to 0.1.**"
      ]
    },
    {
      "cell_type": "code",
      "execution_count": null,
      "metadata": {
        "_cell_guid": "4b65f0c1-8753-bc48-efda-03589d3631d5",
        "_uuid": "bfb786b28ecdee347345cf732ee5ccaab5c2c5b9"
      },
      "outputs": [],
      "source": [
        "gamma_range=[0.0001,0.001,0.01,0.1]\n",
        "acc_score=[]\n",
        "for g in gamma_range:\n",
        "    svc = SVC(kernel='rbf', gamma=g)\n",
        "    scores = cross_val_score(svc, X, y, cv=10, scoring='accuracy')\n",
        "    acc_score.append(scores.mean())\n",
        "print(acc_score)    \n",
        "    "
      ]
    },
    {
      "cell_type": "code",
      "execution_count": null,
      "metadata": {
        "_cell_guid": "0b8d11a5-d9d2-6272-a94b-e85e747667a1",
        "_uuid": "6b5b791fbf3137ddc0939698a321514a1dce14ec"
      },
      "outputs": [],
      "source": [
        "import matplotlib.pyplot as plt\n",
        "%matplotlib inline\n",
        "\n",
        "gamma_range=[0.0001,0.001,0.01,0.1]\n",
        "\n",
        "# plot the value of C for SVM (x-axis) versus the cross-validated accuracy (y-axis)\n",
        "plt.plot(gamma_range,acc_score)\n",
        "plt.xlabel('Value of gamma for SVC ')\n",
        "plt.ylabel('Cross-Validated Accuracy')"
      ]
    },
    {
      "cell_type": "markdown",
      "metadata": {
        "_cell_guid": "0708b835-3e46-82dc-c74b-0f6d34d9b51f",
        "_uuid": "9f8719cdffa66118a79def8ba6dbb0c73b36e22b"
      },
      "source": [
        "The score increases steadily and raches its peak at 0.01 and then decreases till gamma=1.Thus Gamma should be around 0.01."
      ]
    },
    {
      "cell_type": "markdown",
      "metadata": {
        "_cell_guid": "90f76105-a03f-0326-9676-46053a98db93",
        "_uuid": "33f2e0d91bb8a67afd2f14e176cac69aedd8ca56"
      },
      "source": [
        "Let us look into more detail for gamma values"
      ]
    },
    {
      "cell_type": "code",
      "execution_count": null,
      "metadata": {
        "_cell_guid": "279aa6b5-1201-e181-1d60-5d48ce6f9abf",
        "_uuid": "a4064a5271719e9330493dd1786af4a902195b2c"
      },
      "outputs": [],
      "source": [
        "gamma_range=[0.01,0.02,0.03,0.04,0.05]\n",
        "acc_score=[]\n",
        "for g in gamma_range:\n",
        "    svc = SVC(kernel='rbf', gamma=g)\n",
        "    scores = cross_val_score(svc, X, y, cv=10, scoring='accuracy')\n",
        "    acc_score.append(scores.mean())\n",
        "print(acc_score)    \n",
        "    "
      ]
    },
    {
      "cell_type": "code",
      "execution_count": null,
      "metadata": {
        "_cell_guid": "ad8df21f-7c1d-823d-5696-9ed04ed662d1",
        "_uuid": "4107ea3c3bcc27b6fb02280a2e4db82f76474e45"
      },
      "outputs": [],
      "source": [
        "import matplotlib.pyplot as plt\n",
        "%matplotlib inline\n",
        "\n",
        "gamma_range=[0.01,0.02,0.03,0.04,0.05]\n",
        "\n",
        "# plot the value of C for SVM (x-axis) versus the cross-validated accuracy (y-axis)\n",
        "plt.plot(gamma_range,acc_score)\n",
        "plt.xlabel('Value of gamma for SVC ')\n",
        "plt.ylabel('Cross-Validated Accuracy')"
      ]
    },
    {
      "cell_type": "markdown",
      "metadata": {
        "_cell_guid": "651abf9c-4698-9c01-aa2d-cfe3144be51f",
        "_uuid": "0d0d5745faaf2a6453e82d093cadf00efdef3bf1"
      },
      "source": [
        "**We can see there is constant decrease in the accuracy score as gamma value increase.Thus gamma=0.01 is the best parameter.**"
      ]
    },
    {
      "cell_type": "markdown",
      "metadata": {
        "_cell_guid": "413851c2-7bfd-859e-53a1-75ba442a678c",
        "_uuid": "487690b47081a9a84560867d3a6fe24712865064"
      },
      "source": [
        "# Taking polynomial kernel with different degree"
      ]
    },
    {
      "cell_type": "code",
      "execution_count": null,
      "metadata": {
        "_cell_guid": "71802e03-f3f1-2e7a-0b91-53063605bc5c",
        "_uuid": "3fd343a4dedeb3be3e465df760236a2b36679e14"
      },
      "outputs": [],
      "source": [
        "degree=[2,3,4,5,6]\n",
        "acc_score=[]\n",
        "for d in degree:\n",
        "    svc = SVC(kernel='poly', degree=d)\n",
        "    scores = cross_val_score(svc, X, y, cv=10, scoring='accuracy')\n",
        "    acc_score.append(scores.mean())\n",
        "print(acc_score)    \n",
        "    "
      ]
    },
    {
      "cell_type": "code",
      "execution_count": null,
      "metadata": {
        "_cell_guid": "76acd1a6-c10b-beb9-b99b-1986b46b1bc8",
        "_uuid": "e525f378839441bf22bb3ad5f21a9ea6be7c36f1"
      },
      "outputs": [],
      "source": [
        "import matplotlib.pyplot as plt\n",
        "%matplotlib inline\n",
        "\n",
        "degree=[2,3,4,5,6]\n",
        "\n",
        "# plot the value of C for SVM (x-axis) versus the cross-validated accuracy (y-axis)\n",
        "plt.plot(degree,acc_score,color='r')\n",
        "plt.xlabel('degrees for SVC ')\n",
        "plt.ylabel('Cross-Validated Accuracy')"
      ]
    },
    {
      "cell_type": "markdown",
      "metadata": {
        "_cell_guid": "0b5454f1-2788-8627-f70e-1556983a82d9",
        "_uuid": "d20fff56d4ee721832d675be6b4b334f51848ba0"
      },
      "source": [
        "**Score is high for third degree polynomial and then there is drop in the accuracy score as degree of polynomial increases.Thus increase in polynomial degree results in high complexity of the model and thus causes overfitting.**"
      ]
    },
    {
      "cell_type": "markdown",
      "metadata": {
        "_cell_guid": "2143d3d8-4abf-983d-ee4c-cc74f4fde0b7",
        "_uuid": "9c55ead3f05d259bef73fc0796e3bd7cee2e1617"
      },
      "source": [
        "# Now performing SVM by taking hyperparameter C=0.1 and kernel as linear \n",
        "\n",
        "\n",
        "----------"
      ]
    },
    {
      "cell_type": "code",
      "execution_count": null,
      "metadata": {
        "_cell_guid": "499ae7bd-c349-3c50-0f6e-3ca8633d0b28",
        "_uuid": "378da2018ea67516ab1dc2e1e4d992005bf34291"
      },
      "outputs": [],
      "source": [
        "from sklearn.svm import SVC\n",
        "svc= SVC(kernel='linear',C=0.1)\n",
        "svc.fit(X_train,y_train)\n",
        "y_predict=svc.predict(X_test)\n",
        "accuracy_score= metrics.accuracy_score(y_test,y_predict)\n",
        "print(accuracy_score)"
      ]
    },
    {
      "cell_type": "markdown",
      "metadata": {
        "_cell_guid": "b4cf3a4a-9f64-5567-3037-bc2719ae098c",
        "_uuid": "f670914e451e42c8782187e5d69f3e2ba69c830a"
      },
      "source": [
        "# With K-fold cross validation(where K=10)"
      ]
    },
    {
      "cell_type": "code",
      "execution_count": null,
      "metadata": {
        "_cell_guid": "4b9e8e3f-2861-ed79-d48f-ca71c9264165",
        "_uuid": "7923e125e0a5375c77d7e98d3105096e68f0d9f0"
      },
      "outputs": [],
      "source": [
        "from sklearn.cross_validation import cross_val_score\n",
        "svc=SVC(kernel='linear',C=0.1)\n",
        "scores = cross_val_score(svc, X, y, cv=10, scoring='accuracy')\n",
        "print(scores)"
      ]
    },
    {
      "cell_type": "markdown",
      "metadata": {
        "_cell_guid": "daad2a8a-c37f-86b7-9120-8fb3a67cdc38",
        "_uuid": "25c4f0fb7048c167b8ccf65f87c89e2d7a7b756f"
      },
      "source": [
        "Taking the mean of all the scores"
      ]
    },
    {
      "cell_type": "code",
      "execution_count": null,
      "metadata": {
        "_cell_guid": "57b5946d-b6b8-b758-9570-b855ebaa6bd2",
        "_uuid": "ed8d7aaaea4e8e24b39cb1a622c9a5d2626b5911"
      },
      "outputs": [],
      "source": [
        "print(scores.mean())"
      ]
    },
    {
      "cell_type": "markdown",
      "metadata": {
        "_cell_guid": "76ec14cd-f216-6179-063e-8ec211daa46c",
        "_uuid": "a5d1cfb00bfc5db28b55d8e6315739f5dabfbdff"
      },
      "source": [
        "The accuracy is slightly good without K-fold cross validation but it may fail to generalise the unseen data.Hence it is advisable to perform K-fold cross validation where all the data is covered so it may predict unseen data well."
      ]
    },
    {
      "cell_type": "markdown",
      "metadata": {
        "_cell_guid": "d8887f84-1f58-63f5-a35e-6423e816105a",
        "_uuid": "7c4e37bea8ecea2239d9c07e829becea8faaeade"
      },
      "source": [
        "# Now performing SVM by taking hyperparameter gamma=0.01 and kernel as rbf"
      ]
    },
    {
      "cell_type": "code",
      "execution_count": null,
      "metadata": {
        "_cell_guid": "dc42218a-35a1-bd50-032a-fffd67b4772c",
        "_uuid": "027240a1b5374a247121565edfb63b38230277b5"
      },
      "outputs": [],
      "source": [
        "from sklearn.svm import SVC\n",
        "svc= SVC(kernel='rbf',gamma=0.01)\n",
        "svc.fit(X_train,y_train)\n",
        "y_predict=svc.predict(X_test)\n",
        "metrics.accuracy_score(y_test,y_predict)"
      ]
    },
    {
      "cell_type": "markdown",
      "metadata": {
        "_cell_guid": "e0b485e2-4ea3-ed6d-ece1-d29cda102038",
        "_uuid": "b45333e2541659ec39586381471d561f9272879c"
      },
      "source": [
        "# With K-fold cross validation(where K=10)"
      ]
    },
    {
      "cell_type": "code",
      "execution_count": null,
      "metadata": {
        "_cell_guid": "e3baf72f-df6a-f4a0-029e-5c5dcd0aa726",
        "_uuid": "bcb6017cb1893e6ae6563faf305ffdcb1c907dc9"
      },
      "outputs": [],
      "source": [
        "svc=SVC(kernel='linear',gamma=0.01)\n",
        "scores = cross_val_score(svc, X, y, cv=10, scoring='accuracy')\n",
        "print(scores)\n",
        "print(scores.mean())"
      ]
    },
    {
      "cell_type": "markdown",
      "metadata": {
        "_cell_guid": "b35afce0-4274-e96f-66f8-89a57fbc0d30",
        "_uuid": "2bf302495432a75b295746180a86ebf31ba461cb"
      },
      "source": [
        "# Now performing SVM by taking hyperparameter degree=3 and kernel as poly"
      ]
    },
    {
      "cell_type": "code",
      "execution_count": null,
      "metadata": {
        "_cell_guid": "1c4402fd-f477-c7cb-044f-4164afac973f",
        "_uuid": "b4dfafd158f63a537d088c6799d57bc2c047afcf"
      },
      "outputs": [],
      "source": [
        "from sklearn.svm import SVC\n",
        "svc= SVC(kernel='poly',degree=3)\n",
        "svc.fit(X_train,y_train)\n",
        "y_predict=svc.predict(X_test)\n",
        "accuracy_score= metrics.accuracy_score(y_test,y_predict)\n",
        "print(accuracy_score)"
      ]
    },
    {
      "cell_type": "markdown",
      "metadata": {
        "_cell_guid": "1ef380ed-2e09-a0f8-3831-140df751f299",
        "_uuid": "ae11874d2b44d43d55da5b17d433c9c8e048921c"
      },
      "source": [
        "# With K-fold cross validation(where K=10)"
      ]
    },
    {
      "cell_type": "code",
      "execution_count": null,
      "metadata": {
        "_cell_guid": "0327e745-ab33-23a2-db23-04cd62d5267c",
        "_uuid": "da55a2496ed5b86603cfd818c2619b4db90094ab"
      },
      "outputs": [],
      "source": [
        "svc=SVC(kernel='poly',degree=3)\n",
        "scores = cross_val_score(svc, X, y, cv=10, scoring='accuracy')\n",
        "print(scores)\n",
        "print(scores.mean())"
      ]
    },
    {
      "cell_type": "markdown",
      "metadata": {
        "_cell_guid": "3a81d277-41ee-f387-0745-1aba41754f40",
        "_uuid": "792aaed80d67b87dbfb3da618b96519b45f569ed"
      },
      "source": [
        "#Let us perform Grid search technique to find the best parameter"
      ]
    },
    {
      "cell_type": "code",
      "execution_count": null,
      "metadata": {
        "_cell_guid": "fd5a4e22-4b4e-691b-81dd-298d6985e0b9",
        "_uuid": "db58fa3a0b65e788de86b7de718345818720b0f8"
      },
      "outputs": [],
      "source": [
        "from sklearn.svm import SVC\n",
        "svm_model= SVC()"
      ]
    },
    {
      "cell_type": "code",
      "execution_count": null,
      "metadata": {
        "_cell_guid": "0192d0ba-9dad-7c1d-546d-ebe6be61a6a0",
        "_uuid": "1f6f413d402187499206fef48378dee85d5fd1d8"
      },
      "outputs": [],
      "source": [
        "tuned_parameters = {\n",
        " 'C': (np.arange(0.1,1,0.1)) , 'kernel': ['linear'],\n",
        " 'C': (np.arange(0.1,1,0.1)) , 'gamma': [0.01,0.02,0.03,0.04,0.05], 'kernel': ['rbf'],\n",
        " 'degree': [2,3,4] ,'gamma':[0.01,0.02,0.03,0.04,0.05], 'C':(np.arange(0.1,1,0.1)) , 'kernel':['poly']\n",
        "                   }"
      ]
    },
    {
      "cell_type": "code",
      "execution_count": null,
      "metadata": {
        "_cell_guid": "2b5f7459-74de-d88c-08c1-70418281b77c",
        "_uuid": "3e73c881902f048ab480cc5864677dc7222e738e"
      },
      "outputs": [],
      "source": [
        "from sklearn.grid_search import GridSearchCV\n",
        "\n",
        "model_svm = GridSearchCV(svm_model, tuned_parameters,cv=10,scoring='accuracy')"
      ]
    },
    {
      "cell_type": "code",
      "execution_count": null,
      "metadata": {
        "_cell_guid": "54e69fea-2b9d-5084-35c7-f2e24d36cb5a",
        "_uuid": "8c9f200fcb075f7ef97b97d4b841079a78eb4633"
      },
      "outputs": [],
      "source": [
        "model_svm.fit(X_train, y_train)\n",
        "print(model_svm.best_score_)"
      ]
    },
    {
      "cell_type": "code",
      "execution_count": null,
      "metadata": {
        "_cell_guid": "52a1103d-a5e9-34fc-e830-077b5a7e2d9f",
        "_uuid": "96e35a80a564778172f3569ceb24007b3e95b9b4"
      },
      "outputs": [],
      "source": [
        "#print(model_svm.grid_scores_)"
      ]
    },
    {
      "cell_type": "code",
      "execution_count": null,
      "metadata": {
        "_cell_guid": "e2cb91d1-5bea-4f53-a7e0-a1ad2c966b81",
        "_uuid": "17cee7ca9e3c62b3f4a732be2d21cc633cc51220"
      },
      "outputs": [],
      "source": [
        "print(model_svm.best_params_)"
      ]
    },
    {
      "cell_type": "code",
      "execution_count": null,
      "metadata": {
        "_cell_guid": "af4b757d-2dea-8976-4141-d6f670524fe3",
        "_uuid": "2fa7823f7a023e2e48c637a30a8be490fbdbc17b"
      },
      "outputs": [],
      "source": [
        "y_pred= model_svm.predict(X_test)\n",
        "print(metrics.accuracy_score(y_pred,y_test))"
      ]
    },
    {
      "cell_type": "markdown",
      "metadata": {
        "_cell_guid": "b7011956-298d-22ed-976c-2ffbf6954dd8",
        "_uuid": "8ba56b81c6ec2c7bc1ae57b0dad44b2f71aa44e3"
      },
      "source": [
        "You can find my notebook on Github:\n",
        "(\"https://github.com/nirajvermafcb/Data-Science-with-python\")"
      ]
    }
  ],
  "metadata": {
    "_change_revision": 0,
    "_is_fork": false,
    "kernelspec": {
      "display_name": "Python 3",
      "language": "python",
      "name": "python3"
    },
    "language_info": {
      "codemirror_mode": {
        "name": "ipython",
        "version": 3
      },
      "file_extension": ".py",
      "mimetype": "text/x-python",
      "name": "python",
      "nbconvert_exporter": "python",
      "pygments_lexer": "ipython3",
      "version": "3.6.0"
    }
  },
  "nbformat": 4,
  "nbformat_minor": 0
}
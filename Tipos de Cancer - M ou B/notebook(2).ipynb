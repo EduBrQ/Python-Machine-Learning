{
  "cells": [
    {
      "metadata": {
        "_uuid": "9aebb5f8619083c211eee650a3b5021fba1e887e",
        "_cell_guid": "dafef955-4c2c-a871-f1d8-3e0d306393b0"
      },
      "cell_type": "markdown",
      "source": "# Using the Wisconsin breast cancer diagnostic data set for predictive analysis\n## Buddhini Waidyawansa (12-03-2016)\nAttribute Information:\n\n - 1) ID number \n - 2) Diagnosis (M = malignant, B = benign) \n \n-3-32.Ten real-valued features are computed for each cell nucleus:\n\n - a) radius (mean of distances from center to points on the perimeter) \n - b) texture (standard deviation of gray-scale values) \n - c) perimeter \n - d) area \n - e) smoothness (local variation in radius lengths) \n - f) compactness (perimeter^2 / area - 1.0) \n - g). concavity (severity of concave portions of the contour) \n - h). concave points (number of concave portions of the contour) \n - i). symmetry \n - j). fractal dimension (\"coastline approximation\" - 1)\n\nThe mean, standard error and \"worst\" or largest (mean of the three largest values) of these features were computed for each image, resulting in 30 features. For instance, field 3 is Mean Radius, field 13 is Radius SE, field 23 is Worst Radius.\n\n\nFor this analysis, as a guide to predictive analysis I followed the instructions and discussion on \"A Complete Tutorial on Tree Based Modeling from Scratch (in R & Python)\" at Analytics Vidhya."
    },
    {
      "metadata": {
        "_uuid": "0a8c66195482417a35d0e88e86cd350738205788",
        "_cell_guid": "5e26372e-f1bd-b50f-0c1c-33a44306d1f7"
      },
      "cell_type": "markdown",
      "source": "#Load Libraries"
    },
    {
      "metadata": {
        "_uuid": "c0a2d02a58cccc0e0ac9bcbd277aa4332c0be5f3",
        "_cell_guid": "2768ce80-1a7d-ca31-a35f-29cf0ef7fb15",
        "trusted": false,
        "collapsed": true
      },
      "cell_type": "code",
      "source": "import numpy as np # linear algebra\nimport pandas as pd # data processing, CSV file I/O (e.g. pd.read_csv)\n\n# keeps the plots in one place. calls image as static pngs\n%matplotlib inline \nimport matplotlib.pyplot as plt # side-stepping mpl backend\nimport matplotlib.gridspec as gridspec # subplots\nimport mpld3 as mpl\n\n#Import models from scikit learn module:\nfrom sklearn.model_selection import train_test_split\nfrom sklearn.linear_model import LogisticRegression\nfrom sklearn.cross_validation import KFold   #For K-fold cross validation\nfrom sklearn.ensemble import RandomForestClassifier\nfrom sklearn.tree import DecisionTreeClassifier, export_graphviz\nfrom sklearn import metrics",
      "execution_count": null,
      "outputs": []
    },
    {
      "metadata": {
        "_uuid": "03b2ccc9382aaecc5a09e39cf94dd5292d03a214",
        "_cell_guid": "09b9d090-2cba-ad5a-58ce-84208f95dba4"
      },
      "cell_type": "markdown",
      "source": "# Load the data"
    },
    {
      "metadata": {
        "_uuid": "2c7b0c49ddc5d5ce4184d2a72bd21663cd91844d",
        "_cell_guid": "9180cb22-53d2-6bf2-3a29-99448ab808fb",
        "trusted": false,
        "collapsed": true
      },
      "cell_type": "code",
      "source": "df = pd.read_csv(\"../input/data.csv\",header = 0)\ndf.head()",
      "execution_count": null,
      "outputs": []
    },
    {
      "metadata": {
        "_uuid": "6527e7bb766b10c70336dfaad95eeba599ffd08c",
        "_cell_guid": "e382010d-1d71-b8d6-4a6e-a0abc9e42372"
      },
      "cell_type": "markdown",
      "source": "# Clean and prepare data"
    },
    {
      "metadata": {
        "_uuid": "cebc98c300185f9828dc12e97dd727c97e7a612b",
        "_cell_guid": "f9fd3701-af9d-8d8c-5d0e-e2673d7977fe",
        "trusted": false,
        "collapsed": true
      },
      "cell_type": "code",
      "source": "df.drop('id',axis=1,inplace=True)\ndf.drop('Unnamed: 32',axis=1,inplace=True)\n# size of the dataframe\nlen(df)",
      "execution_count": null,
      "outputs": []
    },
    {
      "metadata": {
        "_uuid": "3391631e12e7e9fd4ffc9598cb7f22e1afc764a6",
        "_cell_guid": "083fe464-8dac-713e-d0a1-46435c0d93fa",
        "trusted": false,
        "collapsed": true
      },
      "cell_type": "code",
      "source": "df.diagnosis.unique()",
      "execution_count": null,
      "outputs": []
    },
    {
      "metadata": {
        "_uuid": "5eacb17e3430bc6db1800b32d17600217e753000",
        "_cell_guid": "0882e4c2-3d4d-d4d9-5f49-f36c1b248b93",
        "trusted": false,
        "collapsed": true
      },
      "cell_type": "code",
      "source": "df['diagnosis'] = df['diagnosis'].map({'M':1,'B':0})\ndf.head()",
      "execution_count": null,
      "outputs": []
    },
    {
      "metadata": {
        "_uuid": "f033aa1ac652fd5720cab100034138efa3876ae0",
        "_cell_guid": "9308c3e3-af06-6f2d-b4cf-f2dc9a47a881"
      },
      "cell_type": "markdown",
      "source": "# Explore data"
    },
    {
      "metadata": {
        "_uuid": "89308c92262eac4373a1ef5c5d06af1991338a94",
        "_cell_guid": "cfd882cd-1719-4093-934a-539faf665353",
        "trusted": false,
        "collapsed": true
      },
      "cell_type": "code",
      "source": "df.describe()",
      "execution_count": null,
      "outputs": []
    },
    {
      "metadata": {
        "_uuid": "c72274fec1037ba4ecf42ef3e32098543dd1462e",
        "_cell_guid": "aa80be8a-4022-038b-d7b7-0789df4ef973",
        "trusted": false,
        "collapsed": true
      },
      "cell_type": "code",
      "source": "df.describe()\nplt.hist(df['diagnosis'])\nplt.title('Diagnosis (M=1 , B=0)')\nplt.show()",
      "execution_count": null,
      "outputs": []
    },
    {
      "metadata": {
        "_uuid": "445df35b50c61800f77a26fa74fee3a8c57d85d2",
        "_cell_guid": "56b72979-5155-2a99-1b6e-a55cbf72d2a3"
      },
      "cell_type": "markdown",
      "source": "### nucleus features vs diagnosis"
    },
    {
      "metadata": {
        "_uuid": "d998b7e87786527bf3c25486daa1af8c5253c4d4",
        "_cell_guid": "bc36c937-c5d8-8635-480b-777a94571310",
        "trusted": false,
        "collapsed": true
      },
      "cell_type": "code",
      "source": "features_mean=list(df.columns[1:11])\n# split dataframe into two based on diagnosis\ndfM=df[df['diagnosis'] ==1]\ndfB=df[df['diagnosis'] ==0]",
      "execution_count": null,
      "outputs": []
    },
    {
      "metadata": {
        "_uuid": "f06954cf8e653ac3213cb17de4bb2cfb4fc8c674",
        "_cell_guid": "3f3b5e1b-605d-51b4-28c7-c551b5d13a48",
        "trusted": false,
        "collapsed": true
      },
      "cell_type": "code",
      "source": "#Stack the data\nplt.rcParams.update({'font.size': 8})\nfig, axes = plt.subplots(nrows=5, ncols=2, figsize=(8,10))\naxes = axes.ravel()\nfor idx,ax in enumerate(axes):\n    ax.figure\n    binwidth= (max(df[features_mean[idx]]) - min(df[features_mean[idx]]))/50\n    ax.hist([dfM[features_mean[idx]],dfB[features_mean[idx]]], bins=np.arange(min(df[features_mean[idx]]), max(df[features_mean[idx]]) + binwidth, binwidth) , alpha=0.5,stacked=True, normed = True, label=['M','B'],color=['r','g'])\n    ax.legend(loc='upper right')\n    ax.set_title(features_mean[idx])\nplt.tight_layout()\nplt.show()",
      "execution_count": null,
      "outputs": []
    },
    {
      "metadata": {
        "_uuid": "9b00733c537603e5c30cd507c1977aa761d40710",
        "_cell_guid": "4b8d6133-427b-1ecf-0e24-9ec2afea0a0e"
      },
      "cell_type": "markdown",
      "source": "###Observations\n\n1. mean values of cell radius, perimeter, area, compactness, concavity and concave points can be used in classification of the cancer. Larger values of these parameters tends to show a correlation with malignant tumors. \n2. mean values of texture, smoothness, symmetry or fractual dimension does not show a particular preference of one diagnosis over the other. In any of the histograms there are no noticeable large outliers that warrants further cleanup."
    },
    {
      "metadata": {
        "_uuid": "2fe5e990fc8f656358ccb8f0fb4f57cdf0f3c258",
        "_cell_guid": "ac11039f-0418-3553-9412-ae3d50bef4e4"
      },
      "cell_type": "markdown",
      "source": "## Creating a test set and a training set\nSince this data set is not ordered, I am going to do a simple 70:30 split to create a training data set and a test data set."
    },
    {
      "metadata": {
        "_uuid": "4bb4d50385af935dd905c2ff6b49a580e70ff0ad",
        "_cell_guid": "1390898b-a338-7395-635f-6e1c216861e6",
        "trusted": false,
        "collapsed": true
      },
      "cell_type": "code",
      "source": "traindf, testdf = train_test_split(df, test_size = 0.3)",
      "execution_count": null,
      "outputs": []
    },
    {
      "metadata": {
        "_uuid": "9fb1c6a8ae2e642421beb5221f1ac7a7699dcf4c",
        "_cell_guid": "45dac047-52fb-b847-a521-fa6883ebd5f6"
      },
      "cell_type": "markdown",
      "source": "## Model Classification\n\nHere we are going to build a classification model and evaluate its performance using the training set.\n\n"
    },
    {
      "metadata": {
        "_uuid": "13ba3765494943df2f237a2e91c7421485db2afb",
        "_cell_guid": "780b88d4-523e-b3f8-87dc-17c093663f19",
        "trusted": false,
        "collapsed": true
      },
      "cell_type": "code",
      "source": "#Generic function for making a classification model and accessing the performance. \n# From AnalyticsVidhya tutorial\ndef classification_model(model, data, predictors, outcome):\n  #Fit the model:\n  model.fit(data[predictors],data[outcome])\n  \n  #Make predictions on training set:\n  predictions = model.predict(data[predictors])\n  \n  #Print accuracy\n  accuracy = metrics.accuracy_score(predictions,data[outcome])\n  print(\"Accuracy : %s\" % \"{0:.3%}\".format(accuracy))\n\n  #Perform k-fold cross-validation with 5 folds\n  kf = KFold(data.shape[0], n_folds=5)\n  error = []\n  for train, test in kf:\n    # Filter training data\n    train_predictors = (data[predictors].iloc[train,:])\n    \n    # The target we're using to train the algorithm.\n    train_target = data[outcome].iloc[train]\n    \n    # Training the algorithm using the predictors and target.\n    model.fit(train_predictors, train_target)\n    \n    #Record error from each cross-validation run\n    error.append(model.score(data[predictors].iloc[test,:], data[outcome].iloc[test]))\n    \n    print(\"Cross-Validation Score : %s\" % \"{0:.3%}\".format(np.mean(error)))\n    \n  #Fit the model again so that it can be refered outside the function:\n  model.fit(data[predictors],data[outcome]) ",
      "execution_count": null,
      "outputs": []
    },
    {
      "metadata": {
        "_uuid": "58f46ab64efff28ca4b2f8bfc9f1a0e1e731dcf8",
        "_cell_guid": "33763a8f-3917-25c9-b581-d03be3078af2"
      },
      "cell_type": "markdown",
      "source": "### Logistic Regression model\n\nLogistic regression is widely used for classification of discrete data. In this case we will use it for binary (1,0) classification.\n\nBased on the observations in the histogram plots, we can reasonably hypothesize that the cancer diagnosis depends on the mean cell radius, mean perimeter, mean area, mean compactness, mean concavity and mean concave points. We can then  perform a logistic regression analysis using those features as follows:"
    },
    {
      "metadata": {
        "_uuid": "cc7a2f37215d5820c1e546a3c9f89de16b136ade",
        "_cell_guid": "23d25895-a0ca-c355-899d-4a838e0d799d",
        "trusted": false,
        "collapsed": true
      },
      "cell_type": "code",
      "source": "predictor_var = ['radius_mean','perimeter_mean','area_mean','compactness_mean','concave points_mean']\noutcome_var='diagnosis'\nmodel=LogisticRegression()\nclassification_model(model,traindf,predictor_var,outcome_var)",
      "execution_count": null,
      "outputs": []
    },
    {
      "metadata": {
        "_uuid": "cdba474c4d69524c63ab7fc5d81cf2ef6ef9d377",
        "_cell_guid": "fcdbefb0-e8b7-990d-e016-5d6de31335a7"
      },
      "cell_type": "markdown",
      "source": "The prediction accuracy is reasonable. \nWhat happens if we use just one predictor? \nUse the mean_radius:"
    },
    {
      "metadata": {
        "_uuid": "e2470256ee025bd217b883772c75bd64eeab001d",
        "_cell_guid": "44cdb278-4b12-5710-f616-db7ccde39775",
        "trusted": false,
        "collapsed": true
      },
      "cell_type": "code",
      "source": "predictor_var = ['radius_mean']\nmodel=LogisticRegression()\nclassification_model(model,traindf,predictor_var,outcome_var)",
      "execution_count": null,
      "outputs": []
    },
    {
      "metadata": {
        "_uuid": "00e63b379f94b16a489448c21965e89f71fd1a5b",
        "_cell_guid": "24484a16-ccec-e32b-ec46-26f4e7572ad5"
      },
      "cell_type": "markdown",
      "source": "This gives a similar prediction accuracy and a cross-validation score.\n"
    },
    {
      "metadata": {
        "_uuid": "0e485f4635eaf1bc400eb2133883f75fcde33fa5",
        "_cell_guid": "6572777a-8c9c-1678-3651-65bd79577580"
      },
      "cell_type": "markdown",
      "source": "The accuracy of the predictions are good but not great. The cross-validation scores are reasonable. \nCan we do better with another model?"
    },
    {
      "metadata": {
        "_uuid": "4c44d92c65f1618a0ad700a25bf6aa321e970ebb",
        "_cell_guid": "2a7ce79c-2557-d306-977c-c44adde27c6b"
      },
      "cell_type": "markdown",
      "source": "### Decision Tree Model"
    },
    {
      "metadata": {
        "_uuid": "df4e98e0f04f448c1a199bdc54fcc3c8d29ca53e",
        "_cell_guid": "36acf35e-296e-68fa-ab18-49967554af07",
        "trusted": false,
        "collapsed": true
      },
      "cell_type": "code",
      "source": "predictor_var = ['radius_mean','perimeter_mean','area_mean','compactness_mean','concave points_mean']\nmodel = DecisionTreeClassifier()\nclassification_model(model,traindf,predictor_var,outcome_var)",
      "execution_count": null,
      "outputs": []
    },
    {
      "metadata": {
        "_uuid": "7be45656fd0b4ba0aadf6bbfff53be88a512201c",
        "_cell_guid": "5d88c4cb-d2c7-ca71-5e00-786dd20480b3"
      },
      "cell_type": "markdown",
      "source": "Here we are over-fitting the model probably due to the large number of predictors.\nLet use a single predictor, the obvious one is the radius of the cell."
    },
    {
      "metadata": {
        "_uuid": "ef4b493fcc8b4c0a8ce12d51576c7de58ac77709",
        "_cell_guid": "20ef1197-b886-1517-1282-fe6dbeef15a4",
        "trusted": false,
        "collapsed": true
      },
      "cell_type": "code",
      "source": "predictor_var = ['radius_mean']\nmodel = DecisionTreeClassifier()\nclassification_model(model,traindf,predictor_var,outcome_var)",
      "execution_count": null,
      "outputs": []
    },
    {
      "metadata": {
        "_uuid": "4d3b7adf6f65a820624ee09998399506879cb37e",
        "_cell_guid": "936de076-96bd-82d4-25df-284744bc97b5"
      },
      "cell_type": "markdown",
      "source": "The accuracy of the prediction is much much better here.  But does it depend on the predictor?"
    },
    {
      "metadata": {
        "_uuid": "7cc118262040148c006cef94d26df492347810d9",
        "_cell_guid": "7f22bd99-d2e0-b7b8-c100-88a9a0f0c430"
      },
      "cell_type": "markdown",
      "source": "Using a single predictor gives a 97% prediction accuracy for this model but the cross-validation score is not that great. "
    },
    {
      "metadata": {
        "_uuid": "953d8b01f498b064bffc801c9c19c4f9f7344491",
        "_cell_guid": "40ca5482-3e1c-b8c1-2ac2-041897c9d160"
      },
      "cell_type": "markdown",
      "source": "### Randome Forest"
    },
    {
      "metadata": {
        "_uuid": "95d10e762b07e1cf626f986e79e93d91e5815105",
        "_cell_guid": "e6edf958-508b-f46c-74a5-f1d8f421900f",
        "trusted": false,
        "collapsed": true
      },
      "cell_type": "code",
      "source": "# Use all the features of the nucleus\npredictor_var = features_mean\nmodel = RandomForestClassifier(n_estimators=100,min_samples_split=25, max_depth=7, max_features=2)\nclassification_model(model, traindf,predictor_var,outcome_var)",
      "execution_count": null,
      "outputs": []
    },
    {
      "metadata": {
        "_uuid": "72ac2e7589b009c497a379f015b19025c0f51cb0",
        "_cell_guid": "6e6fb3f9-6fea-171f-fd18-b29d475c140c"
      },
      "cell_type": "markdown",
      "source": "Using all the features improves the prediction accuracy and the cross-validation score is great."
    },
    {
      "metadata": {
        "_uuid": "69acc5a405658688e2f45223d0626d926c3d34fe",
        "_cell_guid": "9e9bb834-8871-5d30-5832-0655b005f8e4"
      },
      "cell_type": "markdown",
      "source": " An advantage with Random Forest is that it returns a feature importance matrix which can be used to select features. So lets select the top 5 features and use them as predictors."
    },
    {
      "metadata": {
        "_uuid": "943b71e6404c1c4e8b5feb155d5cba07c0bf8795",
        "_cell_guid": "cc9f7243-0ad7-5d47-9791-a0be8757ff1c",
        "trusted": false,
        "collapsed": true
      },
      "cell_type": "code",
      "source": "#Create a series with feature importances:\nfeatimp = pd.Series(model.feature_importances_, index=predictor_var).sort_values(ascending=False)\nprint(featimp)",
      "execution_count": null,
      "outputs": []
    },
    {
      "metadata": {
        "_uuid": "92b23efad3aee2451b647f577707c2fc82617147",
        "_cell_guid": "cb067a66-eea5-e2e3-ebc3-b18e832680e1",
        "trusted": false,
        "collapsed": true
      },
      "cell_type": "code",
      "source": "# Using top 5 features\npredictor_var = ['concave points_mean','area_mean','radius_mean','perimeter_mean','concavity_mean',]\nmodel = RandomForestClassifier(n_estimators=100, min_samples_split=25, max_depth=7, max_features=2)\nclassification_model(model,traindf,predictor_var,outcome_var)",
      "execution_count": null,
      "outputs": []
    },
    {
      "metadata": {
        "_uuid": "bb1c45134bb0e5c15aa6d3d99fb1eb967556e40e",
        "_cell_guid": "cf8789ef-3898-7c7d-7e46-7526880d71c6"
      },
      "cell_type": "markdown",
      "source": "Using the top 5 features only changes the prediction accuracy a bit but I think we get a better result if we use all the predictors.\n\nWhat happens if we use a single predictor as before? Just check."
    },
    {
      "metadata": {
        "_uuid": "bc4d71f9ba71945292e406d8a10e576e4b907e20",
        "_cell_guid": "3a80b53f-3033-0d57-2d49-9089338b41d6",
        "trusted": false,
        "collapsed": true
      },
      "cell_type": "code",
      "source": "predictor_var =  ['radius_mean']\nmodel = RandomForestClassifier(n_estimators=100)\nclassification_model(model, traindf,predictor_var,outcome_var)",
      "execution_count": null,
      "outputs": []
    },
    {
      "metadata": {
        "_uuid": "194df2526c623b2127cb145f4607155e48c1bec1",
        "_cell_guid": "d28e57c8-4e19-1f69-f7e2-b11a3c392d84"
      },
      "cell_type": "markdown",
      "source": "This gives a better prediction accuracy too but the cross-validation is not great.\n"
    },
    {
      "metadata": {
        "_uuid": "476ed1d2923dda23645830c2e1be042e117870e8",
        "_cell_guid": "48ad851d-8bb1-386d-30cb-675acf93d078"
      },
      "cell_type": "markdown",
      "source": "## Using on the test data set"
    },
    {
      "metadata": {
        "_uuid": "4cc4766638ca3f388d4c4aa3640a5f56f3c84539",
        "_cell_guid": "0666b20a-7359-2cf6-2792-08103d78afca",
        "trusted": false,
        "collapsed": true
      },
      "cell_type": "code",
      "source": "# Use all the features of the nucleus\npredictor_var = features_mean\nmodel = RandomForestClassifier(n_estimators=100,min_samples_split=25, max_depth=7, max_features=2)\nclassification_model(model, testdf,predictor_var,outcome_var)",
      "execution_count": null,
      "outputs": []
    },
    {
      "metadata": {
        "_uuid": "abf011ae369f69262e92eca0fe89563132bf771d",
        "_cell_guid": "4d63d451-380e-1dde-b3da-048afc63d019"
      },
      "cell_type": "markdown",
      "source": "The prediction accuracy for the test data set using the above Random Forest model is 95%!"
    },
    {
      "metadata": {
        "_uuid": "ac3522b7e625e1e906c271b4185aa24a821c7b7a",
        "_cell_guid": "0310c568-10fc-b19d-b2ee-c87a8f3f3280"
      },
      "cell_type": "markdown",
      "source": "## Conclusion\n\nThe best model to be used for diagnosing breast cancer as found in this analysis is the Random Forest model with the top 5 predictors, 'concave points_mean','area_mean','radius_mean','perimeter_mean','concavity_mean'. It gives a prediction accuracy of ~95% and a cross-validation score ~ 93% for the test data set.\n\n\nI will see if I can improve this more by tweaking the model further and trying out other models in a later version of this analysis."
    }
  ],
  "metadata": {
    "_is_fork": false,
    "kernelspec": {
      "display_name": "Python 3",
      "language": "python",
      "name": "python3"
    },
    "_change_revision": 0,
    "language_info": {
      "name": "python",
      "version": "3.6.5",
      "mimetype": "text/x-python",
      "codemirror_mode": {
        "name": "ipython",
        "version": 3
      },
      "pygments_lexer": "ipython3",
      "nbconvert_exporter": "python",
      "file_extension": ".py"
    }
  },
  "nbformat": 4,
  "nbformat_minor": 1
}
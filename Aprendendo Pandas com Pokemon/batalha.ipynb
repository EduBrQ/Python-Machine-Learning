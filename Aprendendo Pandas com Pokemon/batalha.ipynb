{
  "cells": [
    {
      "metadata": {
        "_uuid": "039f72c6bd9d3548292b27936697fbeddbda2417",
        "_cell_guid": "8a4d021c-6ef2-383f-0533-a7c25e9a20ae"
      },
      "cell_type": "markdown",
      "source": "# Pikachu vs Bulbasaur Matchup\n\n*Press \"Fork\" at the top-right of this screen and set the `your_attack_pokemon`, `their_defense_pokemon`, and `mode` parameters to run this notebook yourself. Use `mode = 'ORIGINAL'` to include all Pokémon or `mode = 'GO'` to only include Pokémon from the Pokémon Go game.*\n\nThis notebook enables you to find the best Pokémon to use to attack a defending Pokémon. It also visualizes the stats between both your attacking Pokémon and their defending Pokémon."
    },
    {
      "metadata": {
        "_uuid": "64250eb5194035011976879308d0d44488ab48e8",
        "_execution_state": "idle",
        "_cell_guid": "4171d15c-c950-df73-f331-bdf84027e497",
        "trusted": false,
        "collapsed": true
      },
      "cell_type": "code",
      "source": "your_attack_pokemon = 'Pikachu'\ntheir_defense_pokemon = 'Bulbasaur'\nmode = 'GO' # GO or ORIGINAL",
      "execution_count": null,
      "outputs": []
    },
    {
      "metadata": {
        "_uuid": "de4884444f1baab00f5bb8b27ef1bd6ef820ad25",
        "_cell_guid": "be15a410-a1f9-f717-267e-f475ca3b85ee"
      },
      "cell_type": "markdown",
      "source": "Import the libraries    "
    },
    {
      "metadata": {
        "_uuid": "7f6d5c45878dcf4c843b41da3750d29a505268d8",
        "_execution_state": "idle",
        "_cell_guid": "8c83dbd2-6e27-4682-fe6b-fbdc78731226",
        "trusted": false,
        "collapsed": true
      },
      "cell_type": "code",
      "source": "import numpy as np\nimport pandas as pd\nimport seaborn as sns\nimport matplotlib.pyplot as plt\nfrom io import StringIO",
      "execution_count": null,
      "outputs": []
    },
    {
      "metadata": {
        "_uuid": "391d25c0ff40ec3b2b05074402531a11c3181664",
        "_cell_guid": "9eca1107-3c37-2517-387d-6a2e86525fdf"
      },
      "cell_type": "markdown",
      "source": "Load Pokémon stats (first 151 for Pokemon Go)"
    },
    {
      "metadata": {
        "_uuid": "55024042494497f4e0397e4e7c363423b751a4be",
        "_execution_state": "idle",
        "_cell_guid": "97491277-97a5-3bff-f488-4df67fab6360",
        "trusted": false,
        "collapsed": true
      },
      "cell_type": "code",
      "source": "pokemon = pd.read_csv('../input/Pokemon.csv')\npokemon = pokemon[pokemon['#'] < 151 if mode == 'GO' else 10000]",
      "execution_count": null,
      "outputs": []
    },
    {
      "metadata": {
        "_uuid": "db543c3038d0b5a43cbfdf76b453de74bf744dd0",
        "_cell_guid": "7e393164-ea06-f7e1-534d-605904013bef"
      },
      "cell_type": "markdown",
      "source": "Add Pokémon type matchup multipliers"
    },
    {
      "metadata": {
        "_uuid": "d4eeaa1d4d861d598d2759148aa501d931255a7a",
        "_execution_state": "idle",
        "_cell_guid": "bd6b0a5a-f63c-60f8-afd7-087160cbece3",
        "trusted": false,
        "collapsed": true
      },
      "cell_type": "code",
      "source": "types = pd.read_csv(StringIO(\"\"\"Attacking,Normal,Fire,Water,Electric,Grass,Ice,Fighting,Poison,Ground,Flying,Psychic,Bug,Rock,Ghost,Dragon,Dark,Steel,Fairy\nNormal,1,1,1,1,1,1,1,1,1,1,1,1,0.5,0,1,1,0.5,1\nFire,1,0.5,0.5,1,2,2,1,1,1,1,1,2,0.5,1,0.5,1,2,1\nWater,1,2,0.5,1,0.5,1,1,1,2,1,1,1,2,1,0.5,1,1,1\nElectric,1,1,2,0.5,0.5,1,1,1,0,2,1,1,1,1,0.5,1,1,1\nGrass,1,0.5,2,1,0.5,1,1,0.5,2,0.5,1,0.5,2,1,0.5,1,0.5,1\nIce,1,0.5,0.5,1,2,0.5,1,1,2,2,1,1,1,1,2,1,0.5,1\nFighting,2,1,1,1,1,2,1,0.5,1,0.5,0.5,0.5,2,0,1,2,2,0.5\nPoison,1,1,1,1,2,1,1,0.5,0.5,1,1,1,0.5,0.5,1,1,0,2\nGround,1,2,1,2,0.5,1,1,2,1,0,1,0.5,2,1,1,1,2,1\nFlying,1,1,1,0.5,2,1,2,1,1,1,1,2,0.5,1,1,1,0.5,1\nPsychic,1,1,1,1,1,1,2,2,1,1,0.5,1,1,1,1,0,0.5,1\nBug,1,0.5,1,1,2,1,0.5,0.5,1,0.5,2,1,1,0.5,1,2,0.5,0.5\nRock,1,2,1,1,1,2,0.5,1,0.5,2,1,2,1,1,1,1,0.5,1\nGhost,0,1,1,1,1,1,1,1,1,1,2,1,1,2,1,0.5,1,1\nDragon,1,1,1,1,1,1,1,1,1,1,1,1,1,1,2,1,0.5,0\nDark,1,1,1,1,1,1,0.5,1,1,1,2,1,1,2,1,0.5,1,0.5\nSteel,1,0.5,0.5,0.5,1,2,1,1,1,1,1,1,2,1,1,1,0.5,2\nFairy,1,0.5,1,1,1,1,2,0.5,1,1,1,1,1,1,2,2,0.5,1\"\"\"))",
      "execution_count": null,
      "outputs": []
    },
    {
      "metadata": {
        "_uuid": "6a1357c734b9fa2da30e55b9266978f863e46cdb",
        "_cell_guid": "fae451fa-a4ba-1db0-5a4b-67ab8e839ea9"
      },
      "cell_type": "markdown",
      "source": "Merge Pokémon stats with type multipliers"
    },
    {
      "metadata": {
        "_uuid": "c07c089343ebff01b6747a564a1ce58e992f29f0",
        "_execution_state": "idle",
        "_cell_guid": "8a1c89f2-bc8e-a694-38a8-d19d038734a3",
        "trusted": false,
        "collapsed": true
      },
      "cell_type": "code",
      "source": "pokemon_attack = pokemon.merge(types, left_on='Type 1', right_on='Attacking')",
      "execution_count": null,
      "outputs": []
    },
    {
      "metadata": {
        "_uuid": "5ababbce58a7719ae89f75203abc5da2ee75b234",
        "_cell_guid": "3d42be3d-9349-e835-6c61-ef6edfd2cdb2"
      },
      "cell_type": "markdown",
      "source": "Find the defending Pokémon's type and multiplier to calculate the adjusted attack"
    },
    {
      "metadata": {
        "_uuid": "a80f6623fb1b64015e3dc0f279fb5f3e126ac1a2",
        "_execution_state": "idle",
        "_cell_guid": "8c017fe8-a5b0-13e8-55ee-be71b575f094",
        "trusted": false,
        "collapsed": true
      },
      "cell_type": "code",
      "source": "opponent_type = pokemon[pokemon['Name'] == their_defense_pokemon]['Type 1'].iloc[0]\nopponent_multiplier = pokemon_attack[opponent_type]\nadjusted_attack = pokemon_attack['Total'] * opponent_multiplier",
      "execution_count": null,
      "outputs": []
    },
    {
      "metadata": {
        "_uuid": "0db7086de37c816c215ca2b78bc8a4923bc31734",
        "_cell_guid": "45fdbb07-724b-8d52-2903-fb20cc1b2126"
      },
      "cell_type": "markdown",
      "source": "Normalize the total attack against the defending Pokémon to a number between 0 and 100"
    },
    {
      "metadata": {
        "_uuid": "bc935a2ca635994208e4cacacb0454a716727111",
        "_execution_state": "idle",
        "_cell_guid": "77f73af7-7b5e-5275-36e8-b892b52a9025",
        "trusted": false,
        "collapsed": true
      },
      "cell_type": "code",
      "source": "pokemon_attack['Adjusted Attack'] = (adjusted_attack - adjusted_attack.min()) / (adjusted_attack.max() - adjusted_attack.min()) * 100",
      "execution_count": null,
      "outputs": []
    },
    {
      "metadata": {
        "_uuid": "0ffb6182487e91b467a9b9f988b5597bfd61c401",
        "_cell_guid": "763bf825-f429-e39d-4986-b47c71f98d37"
      },
      "cell_type": "markdown",
      "source": "Sort by adjusted attack and plot"
    },
    {
      "metadata": {
        "_uuid": "202589e30a06093ecac8a3f30c406942eebc493f",
        "_execution_state": "idle",
        "_cell_guid": "0574d000-c2bc-7c67-642b-46ff75edc486",
        "trusted": false,
        "collapsed": true
      },
      "cell_type": "code",
      "source": "pokemon_attack.sort_values('Adjusted Attack', inplace=True)\npokemon_attack.tail(n=20).plot(kind='barh', x='Name', y='Adjusted Attack', figsize=(10, 7), title='Best 20 Pokemon to Attack %s' % their_defense_pokemon)",
      "execution_count": null,
      "outputs": []
    },
    {
      "metadata": {
        "_uuid": "22200b8da17c76ed8b75b9ca603af65753785cd2",
        "_cell_guid": "94b5fbd6-0fa3-6c03-e0f2-fff917397d7a"
      },
      "cell_type": "markdown",
      "source": "Define a `pokeplot` method that creates a scatterplot"
    },
    {
      "metadata": {
        "_uuid": "18bdd6ef45bd052e579df6da979d76cd4465da9f",
        "_execution_state": "idle",
        "_cell_guid": "c0307772-9d71-438f-6a4b-57cae05f8c97",
        "trusted": false,
        "collapsed": true
      },
      "cell_type": "code",
      "source": "def pokeplot(x, y):\n    f = sns.FacetGrid(pokemon, hue='Type 1', size=8) \\\n       .map(plt.scatter, x, y, alpha=0.5) \\\n       .add_legend()\n    plt.subplots_adjust(top=0.9)\n    f.fig.suptitle('%s vs. %s' % (x, y))\n    f.ax.set_xlim(0,)\n    f.ax.set_ylim(0,)\n\n    attack_pokemon  = pokemon[pokemon['Name']==your_attack_pokemon]\n    defense_pokemon = pokemon[pokemon['Name']==their_defense_pokemon]\n\n    plt.scatter(attack_pokemon[x],attack_pokemon[y], s=100, c='#f46d43')\n    plt.text(attack_pokemon[x]+6,attack_pokemon[y]-3, your_attack_pokemon, \n             fontsize=16, weight='bold', color='#f46d43')\n\n    plt.scatter(defense_pokemon[y],defense_pokemon[y], s=100, c='#74add1')\n    plt.text(defense_pokemon[x]+6,defense_pokemon[y]-3, their_defense_pokemon, \n             fontsize=16, weight='bold', color='#74add1')",
      "execution_count": null,
      "outputs": []
    },
    {
      "metadata": {
        "_uuid": "2f129db3526a845627118eeec77c16ed6c284b30",
        "_cell_guid": "0ec36045-1cd5-9003-3fe1-2ad1bbedd034"
      },
      "cell_type": "markdown",
      "source": "## Attack vs Defense\nCompare the Pokémons' Attack and Defense stats using a scatterplot"
    },
    {
      "metadata": {
        "_uuid": "6d440ccf0de571533ebd4318655804f5e9c3b5f0",
        "_execution_state": "idle",
        "_cell_guid": "08dbd4c0-3719-5bd4-d3d8-e784fb109e3a",
        "trusted": false,
        "collapsed": true
      },
      "cell_type": "code",
      "source": "pokeplot('Attack', 'Defense')",
      "execution_count": null,
      "outputs": []
    },
    {
      "metadata": {
        "_uuid": "add65a75eb729950a4d29a8cfe390c2ba70c6ca8",
        "_cell_guid": "3dd0070d-d8a8-9e8f-b7aa-a936cb3c78be"
      },
      "cell_type": "markdown",
      "source": "## Speed vs HP\nCompare the Pokémons' Speed and HP stats using a scatterplot"
    },
    {
      "metadata": {
        "_uuid": "56691f8aec00d0bf2fcf2e4e928bba15a76e0e93",
        "_execution_state": "idle",
        "_cell_guid": "9bdb581b-65f0-5b2a-3f97-7b7edfb4ef21",
        "trusted": false,
        "collapsed": true
      },
      "cell_type": "code",
      "source": "pokeplot('Speed', 'HP')",
      "execution_count": null,
      "outputs": []
    },
    {
      "metadata": {
        "_uuid": "d1464d0a4e36082dfddd486b9850d875e0c39c40",
        "_cell_guid": "8d9bbb14-e187-d034-3448-43f418345e36"
      },
      "cell_type": "markdown",
      "source": "## Base Stats Comparison\nCompare the Pokémon's base stats using a radar chart"
    },
    {
      "metadata": {
        "_uuid": "9e363dfbf02d78d5e28ee52898294f844c21755a",
        "_execution_state": "idle",
        "_cell_guid": "a0191af2-ec66-453b-32f6-9de62cbfbc62",
        "trusted": false,
        "collapsed": true
      },
      "cell_type": "code",
      "source": "# Taken from https://www.kaggle.com/wenxuanchen/d/abcsds/pokemon/pokemon-visualization-radar-chart-t-sne\n\nTYPE_LIST = ['Grass','Fire','Water','Bug','Normal','Poison',\n            'Electric','Ground','Fairy','Fighting','Psychic',\n            'Rock','Ghost','Ice','Dragon','Dark','Steel','Flying']\n\nCOLOR_LIST = ['#8ED752', '#F95643', '#53AFFE', '#C3D221', '#BBBDAF', '#AD5CA2', \n              '#F8E64E', '#F0CA42', '#F9AEFE', '#A35449', '#FB61B4', '#CDBD72', \n              '#7673DA', '#66EBFF', '#8B76FF', '#8E6856', '#C3C1D7', '#75A4F9']\n\n# The colors are copied from this script: https://www.kaggle.com/ndrewgele/d/abcsds/pokemon/visualizing-pok-mon-stats-with-seaborn\n# The colors look reasonable in this map: For example, Green for Grass, Red for Fire, Blue for Water...\nCOLOR_MAP = dict(zip(TYPE_LIST, COLOR_LIST))\n\n\n# A radar chart example: http://datascience.stackexchange.com/questions/6084/how-do-i-create-a-complex-radar-chart\ndef _scale_data(data, ranges):\n    (x1, x2), d = ranges[0], data[0]\n    return [(d - y1) / (y2 - y1) * (x2 - x1) + x1 for d, (y1, y2) in zip(data, ranges)]\n\nclass RaderChart():\n    def __init__(self, fig, variables, ranges, n_ordinate_levels = 6):\n        angles = np.arange(0, 360, 360./len(variables))\n\n        axes = [fig.add_axes([0.1,0.1,0.8,0.8],polar = True, label = \"axes{}\".format(i)) for i in range(len(variables))]\n        _, text = axes[0].set_thetagrids(angles, labels = variables)\n        \n        for txt, angle in zip(text, angles):\n            txt.set_rotation(angle - 90)\n        \n        for ax in axes[1:]:\n            ax.patch.set_visible(False)\n            ax.xaxis.set_visible(False)\n            ax.grid('off')\n        \n        for i, ax in enumerate(axes):\n            grid = np.linspace(*ranges[i], num = n_ordinate_levels)\n            grid_label = ['']+[str(int(x)) for x in grid[1:]]\n            ax.set_rgrids(grid, labels = grid_label, angle = angles[i])\n            ax.set_ylim(*ranges[i])\n        \n        self.angle = np.deg2rad(np.r_[angles, angles[0]])\n        self.ranges = ranges\n        self.ax = axes[0]\n\n    def plot(self, data, *args, **kw):\n        sdata = _scale_data(data, self.ranges)\n        self.ax.plot(self.angle, np.r_[sdata, sdata[0]], *args, **kw)\n\n    def fill(self, data, *args, **kw):\n        sdata = _scale_data(data, self.ranges)\n        self.ax.fill(self.angle, np.r_[sdata, sdata[0]], *args, **kw)\n\n    def legend(self, *args, **kw):\n        self.ax.legend(*args, **kw)\n\n# select display colors according to Pokemon's Type 1\ndef select_color(types):\n    colors = [None] * len(types)\n    used_colors = set()\n    for i, t in enumerate(types):\n        curr = COLOR_MAP[t]\n        if curr not in used_colors:\n            colors[i] = curr\n            used_colors.add(curr)\n    unused_colors = set(COLOR_LIST) - used_colors\n    for i, c in enumerate(colors):\n        if not c:\n            try:\n                colors[i] = unused_colors.pop()\n            except:\n                raise Exception('Attempt to visualize too many pokemons. No more colors available.')\n    return colors\n\ndf = pd.read_csv('../input/Pokemon.csv')\n\n# In this order, \n# HP, Defense and Sp. Def will show on left; They represent defense abilities\n# Speed, Attack and Sp. Atk will show on right; They represent attack abilities\n# Attack and Defense, Sp. Atk and Sp. Def will show on opposite positions\nuse_attributes = ['Speed', 'Sp. Atk', 'Defense', 'HP', 'Sp. Def', 'Attack']\n# choose the Pokemons you like\nuse_pokemons = [their_defense_pokemon, your_attack_pokemon]\n\ndf_plot = df[df['Name'].map(lambda x:x in use_pokemons)==True]\ndatas = df_plot[use_attributes].values \nranges = [[2**-20, df_plot[attr].max()] for attr in use_attributes]\ncolors = select_color(df_plot['Type 1']) # select colors based on pokemon Type 1 \n\nfig = plt.figure(figsize=(10, 10))\nradar = RaderChart(fig, use_attributes, ranges)\nfor data, color, pokemon in zip(datas, colors, use_pokemons):\n    radar.plot(data, color = color, label = pokemon)\n    radar.fill(data, alpha = 0.1, color = color)\n    radar.legend(loc = 1, fontsize = 'small')\nplt.title('Base Stats of '+(', '.join(use_pokemons[:-1])+' and '+use_pokemons[-1] if len(use_pokemons)>1 else use_pokemons[0]))",
      "execution_count": null,
      "outputs": []
    }
  ],
  "metadata": {
    "_change_revision": 0,
    "kernelspec": {
      "display_name": "Python 3",
      "language": "python",
      "name": "python3"
    },
    "_is_fork": false,
    "language_info": {
      "name": "python",
      "version": "3.6.5",
      "mimetype": "text/x-python",
      "codemirror_mode": {
        "name": "ipython",
        "version": 3
      },
      "pygments_lexer": "ipython3",
      "nbconvert_exporter": "python",
      "file_extension": ".py"
    }
  },
  "nbformat": 4,
  "nbformat_minor": 1
}